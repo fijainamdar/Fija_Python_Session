{
 "cells": [
  {
   "attachments": {},
   "cell_type": "markdown",
   "metadata": {},
   "source": [
    "## 13. Functions\n",
    "- ### Defining a function"
   ]
  },
  {
   "cell_type": "code",
   "execution_count": 4,
   "metadata": {},
   "outputs": [
    {
     "name": "stdout",
     "output_type": "stream",
     "text": [
      "The number is odd\n",
      "The number is even\n"
     ]
    }
   ],
   "source": [
    "#num = 6\n",
    "def checker(num):\n",
    "    if num % 2 == 0:\n",
    "        print(\"The number is even\")\n",
    "    else:\n",
    "        print(\"The number is odd\")\n",
    "    \n",
    "checker(5)\n",
    "checker(10)\n"
   ]
  },
  {
   "attachments": {},
   "cell_type": "markdown",
   "metadata": {},
   "source": [
    "- ### Paramters & Arguments"
   ]
  },
  {
   "cell_type": "code",
   "execution_count": 8,
   "metadata": {},
   "outputs": [
    {
     "name": "stdout",
     "output_type": "stream",
     "text": [
      "6\n",
      "20\n"
     ]
    }
   ],
   "source": [
    "def sumPrinter(num_array):\n",
    "    sum = 0\n",
    "    for i in num_array:\n",
    "        sum += i\n",
    "    print(sum)\n",
    "MyArr = [2,4,6,8]   \n",
    "sumPrinter([1,2,3])\n",
    "sumPrinter(MyArr)\n",
    "\n"
   ]
  },
  {
   "cell_type": "code",
   "execution_count": 10,
   "metadata": {},
   "outputs": [
    {
     "name": "stdout",
     "output_type": "stream",
     "text": [
      "6\n"
     ]
    },
    {
     "ename": "TypeError",
     "evalue": "multiple() takes 3 positional arguments but 4 were given",
     "output_type": "error",
     "traceback": [
      "\u001b[1;31m---------------------------------------------------------------------------\u001b[0m",
      "\u001b[1;31mTypeError\u001b[0m                                 Traceback (most recent call last)",
      "Cell \u001b[1;32mIn[10], line 6\u001b[0m\n\u001b[0;32m      2\u001b[0m     \u001b[38;5;28mprint\u001b[39m(a\u001b[38;5;241m*\u001b[39mb\u001b[38;5;241m*\u001b[39mc)\n\u001b[0;32m      5\u001b[0m multiple(\u001b[38;5;241m1\u001b[39m,\u001b[38;5;241m2\u001b[39m,\u001b[38;5;241m3\u001b[39m)\n\u001b[1;32m----> 6\u001b[0m \u001b[43mmultiple\u001b[49m\u001b[43m(\u001b[49m\u001b[38;5;241;43m1\u001b[39;49m\u001b[43m,\u001b[49m\u001b[38;5;241;43m2\u001b[39;49m\u001b[43m,\u001b[49m\u001b[38;5;241;43m3\u001b[39;49m\u001b[43m,\u001b[49m\u001b[38;5;241;43m4\u001b[39;49m\u001b[43m)\u001b[49m\n",
      "\u001b[1;31mTypeError\u001b[0m: multiple() takes 3 positional arguments but 4 were given"
     ]
    }
   ],
   "source": [
    "def multiple(a,b,c):\n",
    "    print(a*b*c)\n",
    "    \n",
    "    \n",
    "# multiple(1,2,3)\n",
    "multiple(1,2,3,4)\n",
    "\n"
   ]
  },
  {
   "attachments": {},
   "cell_type": "markdown",
   "metadata": {},
   "source": [
    "- ### Default Parameters"
   ]
  },
  {
   "cell_type": "code",
   "execution_count": 23,
   "metadata": {},
   "outputs": [
    {
     "name": "stdout",
     "output_type": "stream",
     "text": [
      "I live at 101,13th main, banglore, Karnataka,India\n",
      "I live at 102,13th main, banglore, Karnataka,Bangladesh\n"
     ]
    }
   ],
   "source": [
    "COUNTRY = \"India\"\n",
    "def printAddress(doornum, street, city, state, country=COUNTRY):\n",
    "    print(f\"I live at {doornum},{street}, {city}, {state},{country}\")\n",
    "    \n",
    "printAddress(101,  \"13th main\", \"banglore\", \"Karnataka\" )\n",
    "printAddress(102,  \"13th main\", \"banglore\", \"Karnataka\", \"Bangladesh\" )"
   ]
  },
  {
   "attachments": {},
   "cell_type": "markdown",
   "metadata": {},
   "source": [
    "- ### `return`"
   ]
  },
  {
   "cell_type": "code",
   "execution_count": 32,
   "metadata": {},
   "outputs": [
    {
     "name": "stdout",
     "output_type": "stream",
     "text": [
      "Outside before 0\n",
      "Inside 6\n",
      "6\n",
      "Outside after 0\n"
     ]
    }
   ],
   "source": [
    "result = 0\n",
    "print(\"Outside before\", result)\n",
    "def multiple3(a,b,c):\n",
    "    result = a*b*c\n",
    "    print(\"Inside\", result)\n",
    "    return result\n",
    "val = multiple3(1,2,3)\n",
    "print(val)\n",
    "print(\"Outside after\", result)"
   ]
  },
  {
   "cell_type": "code",
   "execution_count": 33,
   "metadata": {},
   "outputs": [
    {
     "ename": "ZeroDivisionError",
     "evalue": "division by zero",
     "output_type": "error",
     "traceback": [
      "\u001b[1;31m---------------------------------------------------------------------------\u001b[0m",
      "\u001b[1;31mZeroDivisionError\u001b[0m                         Traceback (most recent call last)",
      "Cell \u001b[1;32mIn[33], line 3\u001b[0m\n\u001b[0;32m      1\u001b[0m \u001b[38;5;28;01mdef\u001b[39;00m \u001b[38;5;21mdivideByZero\u001b[39m(num):\n\u001b[0;32m      2\u001b[0m     \u001b[38;5;28;01mreturn\u001b[39;00m num\u001b[38;5;241m/\u001b[39m\u001b[38;5;241m0\u001b[39m\n\u001b[1;32m----> 3\u001b[0m \u001b[43mdivideByZero\u001b[49m\u001b[43m(\u001b[49m\u001b[38;5;241;43m2\u001b[39;49m\u001b[43m)\u001b[49m\n\u001b[0;32m      4\u001b[0m \u001b[38;5;28mprint\u001b[39m(\u001b[38;5;124m\"\u001b[39m\u001b[38;5;124mHey Wait\u001b[39m\u001b[38;5;124m\"\u001b[39m)\n",
      "Cell \u001b[1;32mIn[33], line 2\u001b[0m, in \u001b[0;36mdivideByZero\u001b[1;34m(num)\u001b[0m\n\u001b[0;32m      1\u001b[0m \u001b[38;5;28;01mdef\u001b[39;00m \u001b[38;5;21mdivideByZero\u001b[39m(num):\n\u001b[1;32m----> 2\u001b[0m     \u001b[38;5;28;01mreturn\u001b[39;00m \u001b[43mnum\u001b[49m\u001b[38;5;241;43m/\u001b[39;49m\u001b[38;5;241;43m0\u001b[39;49m\n",
      "\u001b[1;31mZeroDivisionError\u001b[0m: division by zero"
     ]
    }
   ],
   "source": [
    "def divideByZero(num):\n",
    "    return num/0\n",
    "divideByZero(2)\n",
    "print(\"Hey Wait\")"
   ]
  },
  {
   "cell_type": "code",
   "execution_count": 34,
   "metadata": {},
   "outputs": [
    {
     "name": "stdout",
     "output_type": "stream",
     "text": [
      "Error\n"
     ]
    }
   ],
   "source": [
    "try:\n",
    "    divideByZero(2)\n",
    "except:\n",
    "    print(\"Error\")"
   ]
  },
  {
   "cell_type": "code",
   "execution_count": 40,
   "metadata": {},
   "outputs": [
    {
     "name": "stdout",
     "output_type": "stream",
     "text": [
      "name 'notedefine' is not defined\n"
     ]
    }
   ],
   "source": [
    "try:\n",
    "    # divideByZero(3)\n",
    "    notedefine += 1 \n",
    "except ZeroDivisionError:\n",
    "    print(\"some one try wrong \")\n",
    "except Exception as e:\n",
    "    print(e)"
   ]
  },
  {
   "cell_type": "code",
   "execution_count": 42,
   "metadata": {},
   "outputs": [
    {
     "name": "stdout",
     "output_type": "stream",
     "text": [
      "Hello\n",
      "This will print regardless\n"
     ]
    }
   ],
   "source": [
    "try:\n",
    "    #divideByZero(3)\n",
    "    # notedefine += 1 \n",
    "    print(\"Hello\")\n",
    "except ZeroDivisionError:\n",
    "    print(\"some one try wrong \")\n",
    "except Exception as e:\n",
    "    print(e)\n",
    "finally:\n",
    "    print(\"This will print regardless\")"
   ]
  },
  {
   "cell_type": "code",
   "execution_count": 48,
   "metadata": {},
   "outputs": [
    {
     "name": "stdout",
     "output_type": "stream",
     "text": [
      "3\n",
      "3628800\n"
     ]
    }
   ],
   "source": [
    "import math\n",
    "num  = 3.14\n",
    "print(math.floor(num))\n",
    "print(math.factorial(10))"
   ]
  },
  {
   "cell_type": "code",
   "execution_count": 51,
   "metadata": {},
   "outputs": [
    {
     "name": "stdout",
     "output_type": "stream",
     "text": [
      "3\n",
      "3628800\n"
     ]
    }
   ],
   "source": [
    "import math as s\n",
    "num  = 3.14\n",
    "print(s.floor(num))\n",
    "print(s.factorial(10))"
   ]
  },
  {
   "cell_type": "code",
   "execution_count": 53,
   "metadata": {},
   "outputs": [
    {
     "name": "stdout",
     "output_type": "stream",
     "text": [
      "3\n",
      "3628800\n"
     ]
    }
   ],
   "source": [
    "# import math\n",
    "from math import floor, factorial\n",
    "num  = 3.14\n",
    "print(floor(num))\n",
    "print(factorial(10))"
   ]
  },
  {
   "cell_type": "code",
   "execution_count": 57,
   "metadata": {},
   "outputs": [
    {
     "ename": "Exception",
     "evalue": "No negative number please",
     "output_type": "error",
     "traceback": [
      "\u001b[1;31m---------------------------------------------------------------------------\u001b[0m",
      "\u001b[1;31mException\u001b[0m                                 Traceback (most recent call last)",
      "Cell \u001b[1;32mIn[57], line 9\u001b[0m\n\u001b[0;32m      7\u001b[0m     \u001b[38;5;28;01melse\u001b[39;00m:\n\u001b[0;32m      8\u001b[0m         \u001b[38;5;28;01mreturn\u001b[39;00m num\u001b[38;5;241m*\u001b[39mfactorial(num\u001b[38;5;241m-\u001b[39m\u001b[38;5;241m1\u001b[39m)\n\u001b[1;32m----> 9\u001b[0m \u001b[38;5;28mprint\u001b[39m(\u001b[43mfactorial\u001b[49m\u001b[43m(\u001b[49m\u001b[38;5;241;43m-\u001b[39;49m\u001b[38;5;241;43m3\u001b[39;49m\u001b[43m)\u001b[49m)\n",
      "Cell \u001b[1;32mIn[57], line 3\u001b[0m, in \u001b[0;36mfactorial\u001b[1;34m(num)\u001b[0m\n\u001b[0;32m      1\u001b[0m \u001b[38;5;28;01mdef\u001b[39;00m \u001b[38;5;21mfactorial\u001b[39m(num):\n\u001b[0;32m      2\u001b[0m     \u001b[38;5;28;01mif\u001b[39;00m num \u001b[38;5;241m<\u001b[39m \u001b[38;5;241m0\u001b[39m:\n\u001b[1;32m----> 3\u001b[0m         \u001b[38;5;28;01mraise\u001b[39;00m \u001b[38;5;167;01mException\u001b[39;00m(\u001b[38;5;124m\"\u001b[39m\u001b[38;5;124mNo negative number please\u001b[39m\u001b[38;5;124m\"\u001b[39m)\n\u001b[0;32m      4\u001b[0m         \u001b[38;5;66;03m#print(\"No negative number please\")\u001b[39;00m\n\u001b[0;32m      5\u001b[0m     \u001b[38;5;28;01mif\u001b[39;00m num \u001b[38;5;241m==\u001b[39m \u001b[38;5;241m0\u001b[39m \u001b[38;5;129;01mor\u001b[39;00m num \u001b[38;5;241m==\u001b[39m \u001b[38;5;241m1\u001b[39m:\n",
      "\u001b[1;31mException\u001b[0m: No negative number please"
     ]
    }
   ],
   "source": [
    "def factorial(num):\n",
    "    if num < 0:\n",
    "        raise Exception(\"No negative number please\")\n",
    "        #print(\"No negative number please\")\n",
    "    if num == 0 or num == 1:\n",
    "        return 1\n",
    "    else:\n",
    "        return num*factorial(num-1)\n",
    "print(factorial(-3))\n",
    "\n"
   ]
  },
  {
   "attachments": {},
   "cell_type": "markdown",
   "metadata": {},
   "source": [
    "- ### Scope"
   ]
  },
  {
   "cell_type": "code",
   "execution_count": 45,
   "metadata": {},
   "outputs": [
    {
     "name": "stdout",
     "output_type": "stream",
     "text": [
      "0\n"
     ]
    }
   ],
   "source": [
    "print(result)"
   ]
  },
  {
   "cell_type": "code",
   "execution_count": null,
   "metadata": {},
   "outputs": [],
   "source": []
  },
  {
   "attachments": {},
   "cell_type": "markdown",
   "metadata": {},
   "source": [
    "# OOPS Concepts\n",
    "## 1. Objects\n",
    "An entity that has state and behavior is known as an object e.g., chair, bike, marker, pen, table, car, etc. It can be physical or logical.<br>\n",
    "An object has three characteristics:<br>\n",
    "- **State**: represents the data (value) of an object.<br>\n",
    "- **Behavior**: represents the behavior (functionality) of an object such as deposit, withdraw, etc.<br>\n",
    "- **Identity**: An object identity is typically implemented via a unique ID. The value of the ID is not visible to the external user. However, it is used internally by the JVM to identify each object uniquely.<br><br>\n",
    "## 2. Class\n",
    "A class is a collection of objects. A class contains the blueprints or the prototype from which the objects are being created. It is a logical entity that contains some attributes and methods. <br>\n",
    "- ### Writing a Class\n",
    "\n"
   ]
  },
  {
   "cell_type": "code",
   "execution_count": 60,
   "metadata": {},
   "outputs": [
    {
     "name": "stdout",
     "output_type": "stream",
     "text": [
      "<class '__main__.Vehicle'>\n",
      "0 True 0\n",
      "2\n"
     ]
    }
   ],
   "source": [
    "class Vehicle:\n",
    "    tyres = 0\n",
    "    engine = True\n",
    "    window = 0\n",
    "    \n",
    "MyVehicle = Vehicle()\n",
    "print(type(MyVehicle))\n",
    "print(MyVehicle.tyres,\n",
    "      MyVehicle.engine,\n",
    "      MyVehicle.window)\n",
    "\n",
    "MyVehicle.tyres = 2\n",
    "print(MyVehicle.tyres)"
   ]
  },
  {
   "cell_type": "markdown",
   "metadata": {},
   "source": [
    "- ### Declaring a function"
   ]
  },
  {
   "cell_type": "code",
   "execution_count": 63,
   "metadata": {},
   "outputs": [
    {
     "name": "stdout",
     "output_type": "stream",
     "text": [
      "False\n",
      "True\n",
      "True\n"
     ]
    }
   ],
   "source": [
    "class Vehicle:\n",
    "    tyres = 0\n",
    "    engine = True\n",
    "    window = 0\n",
    "    moving = False\n",
    "    \n",
    "    \n",
    "    def move(self):\n",
    "        self.moving = True\n",
    "\n",
    "\n",
    "    def stop(self):\n",
    "        self.moving = False\n",
    "    \n",
    "MyVehicle = Vehicle()\n",
    "print(MyVehicle.moving)\n",
    "MyVehicle.move()\n",
    "print(MyVehicle.moving)\n",
    "MyVehicle.stop()\n",
    "print(MyVehicle.moving)\n",
    "\n",
    "    "
   ]
  },
  {
   "cell_type": "code",
   "execution_count": 64,
   "metadata": {},
   "outputs": [
    {
     "name": "stdout",
     "output_type": "stream",
     "text": [
      "True\n",
      "True\n"
     ]
    }
   ],
   "source": [
    "print(MyVehicle.moving)\n",
    "Vehicle.move(MyVehicle)\n",
    "print(MyVehicle.moving)"
   ]
  },
  {
   "attachments": {},
   "cell_type": "markdown",
   "metadata": {},
   "source": [
    "- ### `__init__(self)` function"
   ]
  },
  {
   "cell_type": "code",
   "execution_count": 66,
   "metadata": {},
   "outputs": [
    {
     "name": "stdout",
     "output_type": "stream",
     "text": [
      "2 True 0 True\n"
     ]
    }
   ],
   "source": [
    "class TwoWeeler:\n",
    "    def __init__(self):\n",
    "        self.tyres = 2\n",
    "        self.engine = True\n",
    "        self.windows = 0\n",
    "        self.move()\n",
    "        \n",
    "        \n",
    "    def move(self):\n",
    "        self.moving = True\n",
    "        \n",
    "my_2_wheeler = TwoWeeler()\n",
    "print(my_2_wheeler.tyres, my_2_wheeler.engine, my_2_wheeler.windows, my_2_wheeler.moving)"
   ]
  },
  {
   "cell_type": "code",
   "execution_count": 68,
   "metadata": {},
   "outputs": [
    {
     "name": "stdout",
     "output_type": "stream",
     "text": [
      "4 True 2\n"
     ]
    }
   ],
   "source": [
    "class Custom:\n",
    "    def __init__(self, wheels, engine, windows):\n",
    "        self.tyres = wheels\n",
    "        self.engine = engine\n",
    "        self.windows = windows\n",
    "        # self.move()\n",
    "        \n",
    "my_vehicle = Custom(4, True, 2 )\n",
    "print(my_vehicle.tyres,my_vehicle.engine,my_vehicle.windows)"
   ]
  },
  {
   "attachments": {},
   "cell_type": "markdown",
   "metadata": {},
   "source": [
    "- ### Class Methods"
   ]
  },
  {
   "cell_type": "code",
   "execution_count": null,
   "metadata": {},
   "outputs": [],
   "source": []
  },
  {
   "attachments": {},
   "cell_type": "markdown",
   "metadata": {},
   "source": [
    "## 3. Inheritance\n",
    "**Inheritance** is the capability of one class to derive or inherit the properties from another class. The class that derives properties is called the derived class or child class and the class from which the properties are being derived is called the base class or parent class.<br>\n",
    "The benefits of inheritance are: <br>\n",
    "- It represents real-world relationships well.\n",
    "- It provides the reusability of a code. We don’t have to write the same code again and again. Also, it allows us to add more features to a class without modifying it.\n",
    "- It is transitive in nature, which means that if class B inherits from another class A, then all the subclasses of B would automatically inherit from class A.<br>\n",
    "\n",
    "### Types of Inheritance <br>\n",
    "**Single Inheritance**:\n",
    "Single-level inheritance enables a derived class to inherit characteristics from a single-parent class.\n",
    "\n",
    "**Multilevel Inheritance**:\n",
    "Multi-level inheritance enables a derived class to inherit properties from an immediate parent class which in turn inherits properties from his parent class.\n",
    "\n",
    "**Hierarchical Inheritance**:\n",
    "Hierarchical level inheritance enables more than one derived class to inherit properties from a parent class.\n",
    "\n",
    "**Multiple Inheritance**:\n",
    "Multiple level inheritance enables one derived class to inherit properties from more than one base class.\n",
    "\n",
    "\n",
    "- ### Class Inheritance"
   ]
  },
  {
   "cell_type": "code",
   "execution_count": 70,
   "metadata": {},
   "outputs": [
    {
     "name": "stdout",
     "output_type": "stream",
     "text": [
      "3\n",
      "True\n",
      "9\n",
      "is moving True\n"
     ]
    }
   ],
   "source": [
    "class Custom:\n",
    "    def __init__(self, wheels= 3, engine= True, windows = 9):\n",
    "        self.tyres = wheels\n",
    "        self.engine = engine\n",
    "        self.windows = windows\n",
    "        \n",
    "    def moving(self):\n",
    "        self.moving = True\n",
    "    \n",
    "class car(Custom):\n",
    "    def show_properties(self):\n",
    "        print(self.tyres)\n",
    "        print(self.engine)\n",
    "        print(self.windows)\n",
    "        \n",
    "        \n",
    "my_car = car()\n",
    "my_car.show_properties()\n",
    "my_car.moving()\n",
    "print(\"is moving\", my_car.moving)\n",
    "\n",
    "\n",
    "\n",
    "    "
   ]
  },
  {
   "cell_type": "markdown",
   "metadata": {},
   "source": [
    "- ### `super()` function"
   ]
  },
  {
   "cell_type": "code",
   "execution_count": null,
   "metadata": {},
   "outputs": [],
   "source": []
  },
  {
   "cell_type": "markdown",
   "metadata": {},
   "source": [
    "- ### Adding more parameters to child class"
   ]
  },
  {
   "cell_type": "code",
   "execution_count": null,
   "metadata": {},
   "outputs": [],
   "source": []
  },
  {
   "attachments": {},
   "cell_type": "markdown",
   "metadata": {},
   "source": [
    "## 4. Polymorphism\n",
    "**Polymorphism**  refers to the use of a single type entity (method, operator or object) to represent different types in different scenarios. <br>\n",
    "*poly*: many, *moprhism*: form <br>\n",
    "***Example***: the `+` operator can be used on both int and string data types. <br>\n",
    "Similarly `len()` can be used on strings and data structures.<br>\n",
    "*Python does not support function overloading.*<br>\n",
    "### Implementing polymorphism with inherited classes"
   ]
  },
  {
   "cell_type": "code",
   "execution_count": null,
   "metadata": {},
   "outputs": [],
   "source": []
  },
  {
   "attachments": {},
   "cell_type": "markdown",
   "metadata": {},
   "source": [
    "## 5. Abstraction\n",
    "**Abstraction** in Programming is about hiding unwanted details while showing most essential information. <br>\n",
    "Eg: The `range()` function gives us a list of numbers but we are not aware of its implementation or underlying code.<br><br>\n",
    "### Using `__` to hide variables"
   ]
  },
  {
   "cell_type": "code",
   "execution_count": null,
   "metadata": {},
   "outputs": [],
   "source": []
  },
  {
   "attachments": {},
   "cell_type": "markdown",
   "metadata": {},
   "source": [
    "## 6. Encapsulation\n",
    "**Encapsulation** describes the idea of wrapping data and the methods that work on data within one unit. This puts restrictions on accessing variables and methods directly and can prevent the accidental modification of data. To prevent accidental change, an object’s variable can only be changed by an object’s method. <br><br>\n",
    "### Using `__`, getters, setters for encapsulation."
   ]
  },
  {
   "cell_type": "code",
   "execution_count": null,
   "metadata": {},
   "outputs": [],
   "source": []
  }
 ],
 "metadata": {
  "kernelspec": {
   "display_name": "Python 3",
   "language": "python",
   "name": "python3"
  },
  "language_info": {
   "codemirror_mode": {
    "name": "ipython",
    "version": 3
   },
   "file_extension": ".py",
   "mimetype": "text/x-python",
   "name": "python",
   "nbconvert_exporter": "python",
   "pygments_lexer": "ipython3",
   "version": "3.10.0"
  },
  "orig_nbformat": 4
 },
 "nbformat": 4,
 "nbformat_minor": 2
}
